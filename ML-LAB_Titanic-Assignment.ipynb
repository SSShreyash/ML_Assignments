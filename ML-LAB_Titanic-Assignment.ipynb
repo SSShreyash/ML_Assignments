{
 "cells": [
  {
   "cell_type": "code",
   "execution_count": 1,
   "id": "34aa6acf",
   "metadata": {},
   "outputs": [],
   "source": [
    "import matplotlib.pyplot as plt\n",
    "import numpy as np"
   ]
  },
  {
   "cell_type": "code",
   "execution_count": 2,
   "id": "ca881391",
   "metadata": {},
   "outputs": [],
   "source": [
    "import tensorflow as tf"
   ]
  },
  {
   "cell_type": "code",
   "execution_count": 3,
   "id": "cbee5589",
   "metadata": {},
   "outputs": [],
   "source": [
    "import keras\n",
    "from keras import Model, Input\n",
    "from keras.layers import Dense"
   ]
  },
  {
   "cell_type": "code",
   "execution_count": 4,
   "id": "bd5e0ab9",
   "metadata": {},
   "outputs": [],
   "source": [
    "import pandas as pd\n",
    "import seaborn as sns"
   ]
  },
  {
   "cell_type": "code",
   "execution_count": 5,
   "id": "5b7a299f",
   "metadata": {},
   "outputs": [
    {
     "data": {
      "text/html": [
       "<div>\n",
       "<style scoped>\n",
       "    .dataframe tbody tr th:only-of-type {\n",
       "        vertical-align: middle;\n",
       "    }\n",
       "\n",
       "    .dataframe tbody tr th {\n",
       "        vertical-align: top;\n",
       "    }\n",
       "\n",
       "    .dataframe thead th {\n",
       "        text-align: right;\n",
       "    }\n",
       "</style>\n",
       "<table border=\"1\" class=\"dataframe\">\n",
       "  <thead>\n",
       "    <tr style=\"text-align: right;\">\n",
       "      <th></th>\n",
       "      <th>survived</th>\n",
       "      <th>pclass</th>\n",
       "      <th>sex</th>\n",
       "      <th>age</th>\n",
       "      <th>sibsp</th>\n",
       "      <th>parch</th>\n",
       "      <th>fare</th>\n",
       "      <th>embarked</th>\n",
       "      <th>class</th>\n",
       "      <th>who</th>\n",
       "      <th>adult_male</th>\n",
       "      <th>deck</th>\n",
       "      <th>embark_town</th>\n",
       "      <th>alive</th>\n",
       "      <th>alone</th>\n",
       "    </tr>\n",
       "  </thead>\n",
       "  <tbody>\n",
       "    <tr>\n",
       "      <th>0</th>\n",
       "      <td>0</td>\n",
       "      <td>3</td>\n",
       "      <td>male</td>\n",
       "      <td>22.0</td>\n",
       "      <td>1</td>\n",
       "      <td>0</td>\n",
       "      <td>7.2500</td>\n",
       "      <td>S</td>\n",
       "      <td>Third</td>\n",
       "      <td>man</td>\n",
       "      <td>True</td>\n",
       "      <td>NaN</td>\n",
       "      <td>Southampton</td>\n",
       "      <td>no</td>\n",
       "      <td>False</td>\n",
       "    </tr>\n",
       "    <tr>\n",
       "      <th>1</th>\n",
       "      <td>1</td>\n",
       "      <td>1</td>\n",
       "      <td>female</td>\n",
       "      <td>38.0</td>\n",
       "      <td>1</td>\n",
       "      <td>0</td>\n",
       "      <td>71.2833</td>\n",
       "      <td>C</td>\n",
       "      <td>First</td>\n",
       "      <td>woman</td>\n",
       "      <td>False</td>\n",
       "      <td>C</td>\n",
       "      <td>Cherbourg</td>\n",
       "      <td>yes</td>\n",
       "      <td>False</td>\n",
       "    </tr>\n",
       "    <tr>\n",
       "      <th>2</th>\n",
       "      <td>1</td>\n",
       "      <td>3</td>\n",
       "      <td>female</td>\n",
       "      <td>26.0</td>\n",
       "      <td>0</td>\n",
       "      <td>0</td>\n",
       "      <td>7.9250</td>\n",
       "      <td>S</td>\n",
       "      <td>Third</td>\n",
       "      <td>woman</td>\n",
       "      <td>False</td>\n",
       "      <td>NaN</td>\n",
       "      <td>Southampton</td>\n",
       "      <td>yes</td>\n",
       "      <td>True</td>\n",
       "    </tr>\n",
       "    <tr>\n",
       "      <th>3</th>\n",
       "      <td>1</td>\n",
       "      <td>1</td>\n",
       "      <td>female</td>\n",
       "      <td>35.0</td>\n",
       "      <td>1</td>\n",
       "      <td>0</td>\n",
       "      <td>53.1000</td>\n",
       "      <td>S</td>\n",
       "      <td>First</td>\n",
       "      <td>woman</td>\n",
       "      <td>False</td>\n",
       "      <td>C</td>\n",
       "      <td>Southampton</td>\n",
       "      <td>yes</td>\n",
       "      <td>False</td>\n",
       "    </tr>\n",
       "    <tr>\n",
       "      <th>4</th>\n",
       "      <td>0</td>\n",
       "      <td>3</td>\n",
       "      <td>male</td>\n",
       "      <td>35.0</td>\n",
       "      <td>0</td>\n",
       "      <td>0</td>\n",
       "      <td>8.0500</td>\n",
       "      <td>S</td>\n",
       "      <td>Third</td>\n",
       "      <td>man</td>\n",
       "      <td>True</td>\n",
       "      <td>NaN</td>\n",
       "      <td>Southampton</td>\n",
       "      <td>no</td>\n",
       "      <td>True</td>\n",
       "    </tr>\n",
       "  </tbody>\n",
       "</table>\n",
       "</div>"
      ],
      "text/plain": [
       "   survived  pclass     sex   age  sibsp  parch     fare embarked  class  \\\n",
       "0         0       3    male  22.0      1      0   7.2500        S  Third   \n",
       "1         1       1  female  38.0      1      0  71.2833        C  First   \n",
       "2         1       3  female  26.0      0      0   7.9250        S  Third   \n",
       "3         1       1  female  35.0      1      0  53.1000        S  First   \n",
       "4         0       3    male  35.0      0      0   8.0500        S  Third   \n",
       "\n",
       "     who  adult_male deck  embark_town alive  alone  \n",
       "0    man        True  NaN  Southampton    no  False  \n",
       "1  woman       False    C    Cherbourg   yes  False  \n",
       "2  woman       False  NaN  Southampton   yes   True  \n",
       "3  woman       False    C  Southampton   yes  False  \n",
       "4    man        True  NaN  Southampton    no   True  "
      ]
     },
     "execution_count": 5,
     "metadata": {},
     "output_type": "execute_result"
    }
   ],
   "source": [
    "titanic = sns.load_dataset('titanic')\n",
    "titanic.head()"
   ]
  },
  {
   "cell_type": "code",
   "execution_count": 6,
   "id": "f25e5037",
   "metadata": {},
   "outputs": [
    {
     "data": {
      "text/html": [
       "<div>\n",
       "<style scoped>\n",
       "    .dataframe tbody tr th:only-of-type {\n",
       "        vertical-align: middle;\n",
       "    }\n",
       "\n",
       "    .dataframe tbody tr th {\n",
       "        vertical-align: top;\n",
       "    }\n",
       "\n",
       "    .dataframe thead th {\n",
       "        text-align: right;\n",
       "    }\n",
       "</style>\n",
       "<table border=\"1\" class=\"dataframe\">\n",
       "  <thead>\n",
       "    <tr style=\"text-align: right;\">\n",
       "      <th></th>\n",
       "      <th>survived</th>\n",
       "      <th>sex</th>\n",
       "      <th>sibsp</th>\n",
       "      <th>parch</th>\n",
       "      <th>class</th>\n",
       "      <th>who</th>\n",
       "      <th>adult_male</th>\n",
       "      <th>alone</th>\n",
       "    </tr>\n",
       "  </thead>\n",
       "  <tbody>\n",
       "    <tr>\n",
       "      <th>0</th>\n",
       "      <td>0</td>\n",
       "      <td>male</td>\n",
       "      <td>1</td>\n",
       "      <td>0</td>\n",
       "      <td>Third</td>\n",
       "      <td>man</td>\n",
       "      <td>True</td>\n",
       "      <td>False</td>\n",
       "    </tr>\n",
       "    <tr>\n",
       "      <th>1</th>\n",
       "      <td>1</td>\n",
       "      <td>female</td>\n",
       "      <td>1</td>\n",
       "      <td>0</td>\n",
       "      <td>First</td>\n",
       "      <td>woman</td>\n",
       "      <td>False</td>\n",
       "      <td>False</td>\n",
       "    </tr>\n",
       "    <tr>\n",
       "      <th>2</th>\n",
       "      <td>1</td>\n",
       "      <td>female</td>\n",
       "      <td>0</td>\n",
       "      <td>0</td>\n",
       "      <td>Third</td>\n",
       "      <td>woman</td>\n",
       "      <td>False</td>\n",
       "      <td>True</td>\n",
       "    </tr>\n",
       "    <tr>\n",
       "      <th>3</th>\n",
       "      <td>1</td>\n",
       "      <td>female</td>\n",
       "      <td>1</td>\n",
       "      <td>0</td>\n",
       "      <td>First</td>\n",
       "      <td>woman</td>\n",
       "      <td>False</td>\n",
       "      <td>False</td>\n",
       "    </tr>\n",
       "    <tr>\n",
       "      <th>4</th>\n",
       "      <td>0</td>\n",
       "      <td>male</td>\n",
       "      <td>0</td>\n",
       "      <td>0</td>\n",
       "      <td>Third</td>\n",
       "      <td>man</td>\n",
       "      <td>True</td>\n",
       "      <td>True</td>\n",
       "    </tr>\n",
       "  </tbody>\n",
       "</table>\n",
       "</div>"
      ],
      "text/plain": [
       "   survived     sex  sibsp  parch  class    who  adult_male  alone\n",
       "0         0    male      1      0  Third    man        True  False\n",
       "1         1  female      1      0  First  woman       False  False\n",
       "2         1  female      0      0  Third  woman       False   True\n",
       "3         1  female      1      0  First  woman       False  False\n",
       "4         0    male      0      0  Third    man        True   True"
      ]
     },
     "execution_count": 6,
     "metadata": {},
     "output_type": "execute_result"
    }
   ],
   "source": [
    "titanic = titanic.drop(['deck', 'embarked', 'embark_town', 'fare', 'alive', 'pclass','age'],axis=1)\n",
    "titanic.head()"
   ]
  },
  {
   "cell_type": "code",
   "execution_count": 7,
   "id": "95003ec6",
   "metadata": {},
   "outputs": [
    {
     "data": {
      "text/html": [
       "<div>\n",
       "<style scoped>\n",
       "    .dataframe tbody tr th:only-of-type {\n",
       "        vertical-align: middle;\n",
       "    }\n",
       "\n",
       "    .dataframe tbody tr th {\n",
       "        vertical-align: top;\n",
       "    }\n",
       "\n",
       "    .dataframe thead th {\n",
       "        text-align: right;\n",
       "    }\n",
       "</style>\n",
       "<table border=\"1\" class=\"dataframe\">\n",
       "  <thead>\n",
       "    <tr style=\"text-align: right;\">\n",
       "      <th></th>\n",
       "      <th>survived</th>\n",
       "      <th>sex</th>\n",
       "      <th>sibsp</th>\n",
       "      <th>parch</th>\n",
       "      <th>who</th>\n",
       "      <th>adult_male</th>\n",
       "      <th>alone</th>\n",
       "      <th>First</th>\n",
       "      <th>Second</th>\n",
       "      <th>Third</th>\n",
       "    </tr>\n",
       "  </thead>\n",
       "  <tbody>\n",
       "    <tr>\n",
       "      <th>0</th>\n",
       "      <td>0</td>\n",
       "      <td>male</td>\n",
       "      <td>1</td>\n",
       "      <td>0</td>\n",
       "      <td>man</td>\n",
       "      <td>True</td>\n",
       "      <td>False</td>\n",
       "      <td>0</td>\n",
       "      <td>0</td>\n",
       "      <td>1</td>\n",
       "    </tr>\n",
       "    <tr>\n",
       "      <th>1</th>\n",
       "      <td>1</td>\n",
       "      <td>female</td>\n",
       "      <td>1</td>\n",
       "      <td>0</td>\n",
       "      <td>woman</td>\n",
       "      <td>False</td>\n",
       "      <td>False</td>\n",
       "      <td>1</td>\n",
       "      <td>0</td>\n",
       "      <td>0</td>\n",
       "    </tr>\n",
       "    <tr>\n",
       "      <th>2</th>\n",
       "      <td>1</td>\n",
       "      <td>female</td>\n",
       "      <td>0</td>\n",
       "      <td>0</td>\n",
       "      <td>woman</td>\n",
       "      <td>False</td>\n",
       "      <td>True</td>\n",
       "      <td>0</td>\n",
       "      <td>0</td>\n",
       "      <td>1</td>\n",
       "    </tr>\n",
       "    <tr>\n",
       "      <th>3</th>\n",
       "      <td>1</td>\n",
       "      <td>female</td>\n",
       "      <td>1</td>\n",
       "      <td>0</td>\n",
       "      <td>woman</td>\n",
       "      <td>False</td>\n",
       "      <td>False</td>\n",
       "      <td>1</td>\n",
       "      <td>0</td>\n",
       "      <td>0</td>\n",
       "    </tr>\n",
       "    <tr>\n",
       "      <th>4</th>\n",
       "      <td>0</td>\n",
       "      <td>male</td>\n",
       "      <td>0</td>\n",
       "      <td>0</td>\n",
       "      <td>man</td>\n",
       "      <td>True</td>\n",
       "      <td>True</td>\n",
       "      <td>0</td>\n",
       "      <td>0</td>\n",
       "      <td>1</td>\n",
       "    </tr>\n",
       "  </tbody>\n",
       "</table>\n",
       "</div>"
      ],
      "text/plain": [
       "   survived     sex  sibsp  parch    who  adult_male  alone  First  Second  \\\n",
       "0         0    male      1      0    man        True  False      0       0   \n",
       "1         1  female      1      0  woman       False  False      1       0   \n",
       "2         1  female      0      0  woman       False   True      0       0   \n",
       "3         1  female      1      0  woman       False  False      1       0   \n",
       "4         0    male      0      0    man        True   True      0       0   \n",
       "\n",
       "   Third  \n",
       "0      1  \n",
       "1      0  \n",
       "2      1  \n",
       "3      0  \n",
       "4      1  "
      ]
     },
     "execution_count": 7,
     "metadata": {},
     "output_type": "execute_result"
    }
   ],
   "source": [
    "classes = pd.get_dummies(titanic['class'])\n",
    "#classes.head()\n",
    "del titanic['class']\n",
    "titanic = titanic.join(classes)\n",
    "titanic.head()"
   ]
  },
  {
   "cell_type": "code",
   "execution_count": 8,
   "id": "74e25043",
   "metadata": {
    "scrolled": true
   },
   "outputs": [
    {
     "data": {
      "text/html": [
       "<div>\n",
       "<style scoped>\n",
       "    .dataframe tbody tr th:only-of-type {\n",
       "        vertical-align: middle;\n",
       "    }\n",
       "\n",
       "    .dataframe tbody tr th {\n",
       "        vertical-align: top;\n",
       "    }\n",
       "\n",
       "    .dataframe thead th {\n",
       "        text-align: right;\n",
       "    }\n",
       "</style>\n",
       "<table border=\"1\" class=\"dataframe\">\n",
       "  <thead>\n",
       "    <tr style=\"text-align: right;\">\n",
       "      <th></th>\n",
       "      <th>survived</th>\n",
       "      <th>sibsp</th>\n",
       "      <th>parch</th>\n",
       "      <th>who</th>\n",
       "      <th>adult_male</th>\n",
       "      <th>alone</th>\n",
       "      <th>First</th>\n",
       "      <th>Second</th>\n",
       "      <th>Third</th>\n",
       "      <th>female</th>\n",
       "      <th>male</th>\n",
       "    </tr>\n",
       "  </thead>\n",
       "  <tbody>\n",
       "    <tr>\n",
       "      <th>0</th>\n",
       "      <td>0</td>\n",
       "      <td>1</td>\n",
       "      <td>0</td>\n",
       "      <td>man</td>\n",
       "      <td>True</td>\n",
       "      <td>False</td>\n",
       "      <td>0</td>\n",
       "      <td>0</td>\n",
       "      <td>1</td>\n",
       "      <td>0</td>\n",
       "      <td>1</td>\n",
       "    </tr>\n",
       "    <tr>\n",
       "      <th>1</th>\n",
       "      <td>1</td>\n",
       "      <td>1</td>\n",
       "      <td>0</td>\n",
       "      <td>woman</td>\n",
       "      <td>False</td>\n",
       "      <td>False</td>\n",
       "      <td>1</td>\n",
       "      <td>0</td>\n",
       "      <td>0</td>\n",
       "      <td>1</td>\n",
       "      <td>0</td>\n",
       "    </tr>\n",
       "    <tr>\n",
       "      <th>2</th>\n",
       "      <td>1</td>\n",
       "      <td>0</td>\n",
       "      <td>0</td>\n",
       "      <td>woman</td>\n",
       "      <td>False</td>\n",
       "      <td>True</td>\n",
       "      <td>0</td>\n",
       "      <td>0</td>\n",
       "      <td>1</td>\n",
       "      <td>1</td>\n",
       "      <td>0</td>\n",
       "    </tr>\n",
       "    <tr>\n",
       "      <th>3</th>\n",
       "      <td>1</td>\n",
       "      <td>1</td>\n",
       "      <td>0</td>\n",
       "      <td>woman</td>\n",
       "      <td>False</td>\n",
       "      <td>False</td>\n",
       "      <td>1</td>\n",
       "      <td>0</td>\n",
       "      <td>0</td>\n",
       "      <td>1</td>\n",
       "      <td>0</td>\n",
       "    </tr>\n",
       "    <tr>\n",
       "      <th>4</th>\n",
       "      <td>0</td>\n",
       "      <td>0</td>\n",
       "      <td>0</td>\n",
       "      <td>man</td>\n",
       "      <td>True</td>\n",
       "      <td>True</td>\n",
       "      <td>0</td>\n",
       "      <td>0</td>\n",
       "      <td>1</td>\n",
       "      <td>0</td>\n",
       "      <td>1</td>\n",
       "    </tr>\n",
       "  </tbody>\n",
       "</table>\n",
       "</div>"
      ],
      "text/plain": [
       "   survived  sibsp  parch    who  adult_male  alone  First  Second  Third  \\\n",
       "0         0      1      0    man        True  False      0       0      1   \n",
       "1         1      1      0  woman       False  False      1       0      0   \n",
       "2         1      0      0  woman       False   True      0       0      1   \n",
       "3         1      1      0  woman       False  False      1       0      0   \n",
       "4         0      0      0    man        True   True      0       0      1   \n",
       "\n",
       "   female  male  \n",
       "0       0     1  \n",
       "1       1     0  \n",
       "2       1     0  \n",
       "3       1     0  \n",
       "4       0     1  "
      ]
     },
     "execution_count": 8,
     "metadata": {},
     "output_type": "execute_result"
    }
   ],
   "source": [
    "gender = pd.get_dummies(titanic['sex'])\n",
    "#gender.head()\n",
    "titanic = titanic.drop('sex',axis=1)\n",
    "titanic = titanic.join(gender)\n",
    "titanic.head()"
   ]
  },
  {
   "cell_type": "code",
   "execution_count": 9,
   "id": "96f3ae0d",
   "metadata": {},
   "outputs": [],
   "source": [
    "who = pd.get_dummies(titanic['who'])\n",
    "#who.head()\n",
    "titanic = titanic.drop('who',axis=1)\n",
    "titanic = titanic.join(who)"
   ]
  },
  {
   "cell_type": "code",
   "execution_count": 10,
   "id": "7c6fe979",
   "metadata": {},
   "outputs": [
    {
     "data": {
      "text/html": [
       "<div>\n",
       "<style scoped>\n",
       "    .dataframe tbody tr th:only-of-type {\n",
       "        vertical-align: middle;\n",
       "    }\n",
       "\n",
       "    .dataframe tbody tr th {\n",
       "        vertical-align: top;\n",
       "    }\n",
       "\n",
       "    .dataframe thead th {\n",
       "        text-align: right;\n",
       "    }\n",
       "</style>\n",
       "<table border=\"1\" class=\"dataframe\">\n",
       "  <thead>\n",
       "    <tr style=\"text-align: right;\">\n",
       "      <th></th>\n",
       "      <th>survived</th>\n",
       "      <th>sibsp</th>\n",
       "      <th>parch</th>\n",
       "      <th>adult_male</th>\n",
       "      <th>alone</th>\n",
       "      <th>First</th>\n",
       "      <th>Second</th>\n",
       "      <th>Third</th>\n",
       "      <th>female</th>\n",
       "      <th>male</th>\n",
       "      <th>child</th>\n",
       "      <th>man</th>\n",
       "      <th>woman</th>\n",
       "    </tr>\n",
       "  </thead>\n",
       "  <tbody>\n",
       "    <tr>\n",
       "      <th>0</th>\n",
       "      <td>0</td>\n",
       "      <td>1</td>\n",
       "      <td>0</td>\n",
       "      <td>True</td>\n",
       "      <td>False</td>\n",
       "      <td>0</td>\n",
       "      <td>0</td>\n",
       "      <td>1</td>\n",
       "      <td>0</td>\n",
       "      <td>1</td>\n",
       "      <td>0</td>\n",
       "      <td>1</td>\n",
       "      <td>0</td>\n",
       "    </tr>\n",
       "    <tr>\n",
       "      <th>1</th>\n",
       "      <td>1</td>\n",
       "      <td>1</td>\n",
       "      <td>0</td>\n",
       "      <td>False</td>\n",
       "      <td>False</td>\n",
       "      <td>1</td>\n",
       "      <td>0</td>\n",
       "      <td>0</td>\n",
       "      <td>1</td>\n",
       "      <td>0</td>\n",
       "      <td>0</td>\n",
       "      <td>0</td>\n",
       "      <td>1</td>\n",
       "    </tr>\n",
       "    <tr>\n",
       "      <th>2</th>\n",
       "      <td>1</td>\n",
       "      <td>0</td>\n",
       "      <td>0</td>\n",
       "      <td>False</td>\n",
       "      <td>True</td>\n",
       "      <td>0</td>\n",
       "      <td>0</td>\n",
       "      <td>1</td>\n",
       "      <td>1</td>\n",
       "      <td>0</td>\n",
       "      <td>0</td>\n",
       "      <td>0</td>\n",
       "      <td>1</td>\n",
       "    </tr>\n",
       "    <tr>\n",
       "      <th>3</th>\n",
       "      <td>1</td>\n",
       "      <td>1</td>\n",
       "      <td>0</td>\n",
       "      <td>False</td>\n",
       "      <td>False</td>\n",
       "      <td>1</td>\n",
       "      <td>0</td>\n",
       "      <td>0</td>\n",
       "      <td>1</td>\n",
       "      <td>0</td>\n",
       "      <td>0</td>\n",
       "      <td>0</td>\n",
       "      <td>1</td>\n",
       "    </tr>\n",
       "    <tr>\n",
       "      <th>4</th>\n",
       "      <td>0</td>\n",
       "      <td>0</td>\n",
       "      <td>0</td>\n",
       "      <td>True</td>\n",
       "      <td>True</td>\n",
       "      <td>0</td>\n",
       "      <td>0</td>\n",
       "      <td>1</td>\n",
       "      <td>0</td>\n",
       "      <td>1</td>\n",
       "      <td>0</td>\n",
       "      <td>1</td>\n",
       "      <td>0</td>\n",
       "    </tr>\n",
       "  </tbody>\n",
       "</table>\n",
       "</div>"
      ],
      "text/plain": [
       "   survived  sibsp  parch  adult_male  alone  First  Second  Third  female  \\\n",
       "0         0      1      0        True  False      0       0      1       0   \n",
       "1         1      1      0       False  False      1       0      0       1   \n",
       "2         1      0      0       False   True      0       0      1       1   \n",
       "3         1      1      0       False  False      1       0      0       1   \n",
       "4         0      0      0        True   True      0       0      1       0   \n",
       "\n",
       "   male  child  man  woman  \n",
       "0     1      0    1      0  \n",
       "1     0      0    0      1  \n",
       "2     0      0    0      1  \n",
       "3     0      0    0      1  \n",
       "4     1      0    1      0  "
      ]
     },
     "execution_count": 10,
     "metadata": {},
     "output_type": "execute_result"
    }
   ],
   "source": [
    "titanic.head()"
   ]
  },
  {
   "cell_type": "code",
   "execution_count": 11,
   "id": "a31e775b",
   "metadata": {},
   "outputs": [],
   "source": [
    "#Convert true false values to integers 0,1.\n",
    "titanic[\"adult_male\"] = titanic[\"adult_male\"].astype(int)\n",
    "titanic[\"alone\"] = titanic[\"alone\"].astype(int)"
   ]
  },
  {
   "cell_type": "code",
   "execution_count": 12,
   "id": "7e0be337",
   "metadata": {
    "scrolled": true
   },
   "outputs": [],
   "source": [
    "titanic = titanic.sample(frac=1).reset_index(drop=True)\n",
    "split_index = int(0.8 * len(titanic))\n",
    "\n",
    "titanic_trainDS = titanic[:split_index]\n",
    "titanic_testDS = titanic[split_index:]"
   ]
  },
  {
   "cell_type": "code",
   "execution_count": 13,
   "id": "bb232a19",
   "metadata": {},
   "outputs": [
    {
     "name": "stdout",
     "output_type": "stream",
     "text": [
      "712\n",
      "179\n"
     ]
    }
   ],
   "source": [
    "print(len(titanic_trainDS))\n",
    "print(len(titanic_testDS))"
   ]
  },
  {
   "cell_type": "code",
   "execution_count": 14,
   "id": "0733079d",
   "metadata": {},
   "outputs": [],
   "source": [
    "XS_train = titanic_trainDS.drop('survived',axis=1).values\n",
    "XS_test = titanic_testDS.drop('survived',axis=1).values"
   ]
  },
  {
   "cell_type": "code",
   "execution_count": 15,
   "id": "802ce472",
   "metadata": {},
   "outputs": [],
   "source": [
    "YS_train = titanic_trainDS['survived'].values\n",
    "YS_test = titanic_testDS['survived'].values"
   ]
  },
  {
   "cell_type": "code",
   "execution_count": 16,
   "id": "f58fe861",
   "metadata": {},
   "outputs": [
    {
     "name": "stdout",
     "output_type": "stream",
     "text": [
      "[[0 1 1 ... 0 1 0]\n",
      " [0 0 1 ... 0 1 0]\n",
      " [0 0 1 ... 0 1 0]\n",
      " ...\n",
      " [1 0 1 ... 0 1 0]\n",
      " [0 0 0 ... 0 0 1]\n",
      " [0 0 1 ... 0 1 0]]\n",
      "[0 0 0 1 0 0 1 0 0 1 1 1 1 0 0 1 1 0 0 1 0 0 0 0 0 1 1 0 0 0 0 1 0 1 0 0 0\n",
      " 1 1 0 0 0 0 1 1 0 0 0 1 1 0 0 1 1 0 1 0 0 0 1 1 1 0 0 1 0 0 0 1 1 0 0 1 0\n",
      " 0 1 0 1 0 0 0 0 0 0 1 1 1 1 1 1 0 1 0 1 0 0 0 1 0 0 0 1 0 1 1 0 0 1 1 1 0\n",
      " 1 1 0 1 1 0 1 0 0 0 0 1 0 0 1 1 1 0 0 0 1 1 0 1 1 0 0 0 0 0 1 0 1 1 1 1 1\n",
      " 1 0 0 1 1 1 0 0 1 1 0 0 1 1 0 0 0 0 0 0 0 1 1 1 0 0 0 0 0 0 0 0 0 0 1 0 1\n",
      " 1 0 0 1 1 0 1 0 0 1 1 1 1 1 1 1 1 0 0 0 1 1 0 0 0 1 1 0 1 0 0 1 0 1 1 1 0\n",
      " 0 1 1 0 0 1 1 1 0 0 1 0 1 0 0 1 0 0 1 1 1 0 1 0 0 1 0 1 0 0 0 0 1 0 1 0 0\n",
      " 0 0 1 1 0 1 0 0 0 0 1 0 0 0 1 0 1 1 1 0 1 1 1 0 0 1 0 0 0 0 1 0 0 0 1 0 1\n",
      " 1 0 1 0 0 1 0 0 1 1 0 1 1 1 1 1 0 1 1 1 1 1 0 0 1 1 1 1 0 1 1 0 0 0 1 1 1\n",
      " 0 1 1 1 0 0 0 0 1 0 0 0 0 0 0 1 0 0 0 0 0 0 1 0 0 1 0 0 0 0 0 0 0 0 1 0 0\n",
      " 0 0 0 1 0 0 0 0 1 0 0 0 0 0 0 1 0 0 0 0 0 0 0 0 1 1 0 0 1 0 1 1 1 0 0 0 0\n",
      " 0 1 0 1 0 1 1 1 1 1 0 0 1 1 0 0 0 1 0 1 1 1 1 1 0 0 0 1 0 0 1 0 1 0 0 0 1\n",
      " 0 0 0 0 1 0 1 0 0 0 0 1 0 0 0 0 1 0 0 0 1 0 0 0 0 0 1 0 0 1 0 0 0 0 0 0 0\n",
      " 1 1 0 0 1 1 0 0 1 0 0 0 0 1 0 0 0 0 0 1 0 0 0 0 0 0 1 0 1 0 0 1 0 0 0 0 0\n",
      " 1 0 1 0 0 1 0 1 1 0 1 0 1 0 0 0 0 0 0 0 0 1 0 0 0 1 0 0 0 0 0 0 0 0 0 1 1\n",
      " 0 0 0 0 1 0 1 1 0 0 1 0 0 1 1 0 0 0 0 0 0 0 1 1 1 0 1 0 0 0 0 0 1 1 0 1 0\n",
      " 1 0 1 0 0 0 1 0 0 0 0 0 0 0 1 1 0 1 0 1 0 1 1 1 1 1 1 1 0 0 0 1 0 0 0 0 1\n",
      " 1 0 1 1 0 1 0 1 0 1 0 0 1 1 0 0 0 0 1 1 1 0 0 1 0 0 0 0 1 0 1 0 0 1 1 1 0\n",
      " 0 1 0 1 0 0 0 0 0 0 1 1 0 0 0 0 1 0 1 0 1 0 1 0 1 1 1 1 1 0 0 0 0 0 1 0 1\n",
      " 0 1 1 0 0 0 0 1 0]\n"
     ]
    }
   ],
   "source": [
    "print(XS_train)\n",
    "print(YS_train)"
   ]
  },
  {
   "cell_type": "code",
   "execution_count": 17,
   "id": "8bec9a20",
   "metadata": {},
   "outputs": [
    {
     "name": "stdout",
     "output_type": "stream",
     "text": [
      "Model: \"model\"\n",
      "_________________________________________________________________\n",
      " Layer (type)                Output Shape              Param #   \n",
      "=================================================================\n",
      " input_1 (InputLayer)        [(None, 12)]              0         \n",
      "                                                                 \n",
      " dense (Dense)               (None, 24)                312       \n",
      "                                                                 \n",
      " dense_1 (Dense)             (None, 1)                 25        \n",
      "                                                                 \n",
      "=================================================================\n",
      "Total params: 337\n",
      "Trainable params: 337\n",
      "Non-trainable params: 0\n",
      "_________________________________________________________________\n"
     ]
    }
   ],
   "source": [
    "inp = Input(shape=(12,))\n",
    "l1 = Dense(24, activation='relu')(inp)\n",
    "out = Dense(1, activation='sigmoid')(l1)\n",
    "\n",
    "model = Model(inp, out)\n",
    "model.summary()"
   ]
  },
  {
   "cell_type": "code",
   "execution_count": 18,
   "id": "56988722",
   "metadata": {
    "scrolled": true
   },
   "outputs": [],
   "source": [
    "model.compile(optimizer=\"adam\", loss=\"mse\", metrics = ['acc'])"
   ]
  },
  {
   "cell_type": "code",
   "execution_count": 19,
   "id": "cabed28e",
   "metadata": {},
   "outputs": [
    {
     "name": "stdout",
     "output_type": "stream",
     "text": [
      "Epoch 1/40\n",
      "23/23 [==============================] - 1s 10ms/step - loss: 0.2879 - acc: 0.3441 - val_loss: 0.2553 - val_acc: 0.6927\n",
      "Epoch 2/40\n",
      "23/23 [==============================] - 0s 3ms/step - loss: 0.2472 - acc: 0.6685 - val_loss: 0.2152 - val_acc: 0.7486\n",
      "Epoch 3/40\n",
      "23/23 [==============================] - 0s 3ms/step - loss: 0.2194 - acc: 0.7121 - val_loss: 0.1904 - val_acc: 0.7709\n",
      "Epoch 4/40\n",
      "23/23 [==============================] - 0s 3ms/step - loss: 0.2013 - acc: 0.7303 - val_loss: 0.1751 - val_acc: 0.7654\n",
      "Epoch 5/40\n",
      "23/23 [==============================] - 0s 2ms/step - loss: 0.1868 - acc: 0.7402 - val_loss: 0.1629 - val_acc: 0.7709\n",
      "Epoch 6/40\n",
      "23/23 [==============================] - 0s 3ms/step - loss: 0.1752 - acc: 0.7472 - val_loss: 0.1537 - val_acc: 0.7989\n",
      "Epoch 7/40\n",
      "23/23 [==============================] - 0s 3ms/step - loss: 0.1660 - acc: 0.7781 - val_loss: 0.1472 - val_acc: 0.8101\n",
      "Epoch 8/40\n",
      "23/23 [==============================] - 0s 3ms/step - loss: 0.1585 - acc: 0.7893 - val_loss: 0.1425 - val_acc: 0.8101\n",
      "Epoch 9/40\n",
      "23/23 [==============================] - 0s 3ms/step - loss: 0.1528 - acc: 0.7949 - val_loss: 0.1393 - val_acc: 0.8101\n",
      "Epoch 10/40\n",
      "23/23 [==============================] - 0s 3ms/step - loss: 0.1486 - acc: 0.7949 - val_loss: 0.1371 - val_acc: 0.8101\n",
      "Epoch 11/40\n",
      "23/23 [==============================] - 0s 3ms/step - loss: 0.1457 - acc: 0.8034 - val_loss: 0.1353 - val_acc: 0.8156\n",
      "Epoch 12/40\n",
      "23/23 [==============================] - 0s 3ms/step - loss: 0.1427 - acc: 0.8090 - val_loss: 0.1337 - val_acc: 0.8156\n",
      "Epoch 13/40\n",
      "23/23 [==============================] - 0s 3ms/step - loss: 0.1405 - acc: 0.8090 - val_loss: 0.1326 - val_acc: 0.8156\n",
      "Epoch 14/40\n",
      "23/23 [==============================] - 0s 3ms/step - loss: 0.1385 - acc: 0.8090 - val_loss: 0.1314 - val_acc: 0.8156\n",
      "Epoch 15/40\n",
      "23/23 [==============================] - 0s 3ms/step - loss: 0.1368 - acc: 0.8118 - val_loss: 0.1303 - val_acc: 0.8156\n",
      "Epoch 16/40\n",
      "23/23 [==============================] - 0s 3ms/step - loss: 0.1356 - acc: 0.8118 - val_loss: 0.1292 - val_acc: 0.8156\n",
      "Epoch 17/40\n",
      "23/23 [==============================] - 0s 3ms/step - loss: 0.1344 - acc: 0.8132 - val_loss: 0.1287 - val_acc: 0.8156\n",
      "Epoch 18/40\n",
      "23/23 [==============================] - 0s 3ms/step - loss: 0.1332 - acc: 0.8160 - val_loss: 0.1280 - val_acc: 0.8101\n",
      "Epoch 19/40\n",
      "23/23 [==============================] - 0s 3ms/step - loss: 0.1324 - acc: 0.8216 - val_loss: 0.1275 - val_acc: 0.8101\n",
      "Epoch 20/40\n",
      "23/23 [==============================] - 0s 3ms/step - loss: 0.1314 - acc: 0.8230 - val_loss: 0.1272 - val_acc: 0.8156\n",
      "Epoch 21/40\n",
      "23/23 [==============================] - 0s 3ms/step - loss: 0.1308 - acc: 0.8216 - val_loss: 0.1269 - val_acc: 0.8268\n",
      "Epoch 22/40\n",
      "23/23 [==============================] - 0s 3ms/step - loss: 0.1300 - acc: 0.8244 - val_loss: 0.1268 - val_acc: 0.8268\n",
      "Epoch 23/40\n",
      "23/23 [==============================] - 0s 3ms/step - loss: 0.1295 - acc: 0.8244 - val_loss: 0.1265 - val_acc: 0.8268\n",
      "Epoch 24/40\n",
      "23/23 [==============================] - 0s 3ms/step - loss: 0.1291 - acc: 0.8244 - val_loss: 0.1264 - val_acc: 0.8268\n",
      "Epoch 25/40\n",
      "23/23 [==============================] - 0s 3ms/step - loss: 0.1291 - acc: 0.8258 - val_loss: 0.1260 - val_acc: 0.8268\n",
      "Epoch 26/40\n",
      "23/23 [==============================] - 0s 3ms/step - loss: 0.1288 - acc: 0.8258 - val_loss: 0.1261 - val_acc: 0.8380\n",
      "Epoch 27/40\n",
      "23/23 [==============================] - 0s 2ms/step - loss: 0.1282 - acc: 0.8230 - val_loss: 0.1262 - val_acc: 0.8268\n",
      "Epoch 28/40\n",
      "23/23 [==============================] - 0s 2ms/step - loss: 0.1279 - acc: 0.8272 - val_loss: 0.1263 - val_acc: 0.8268\n",
      "Epoch 29/40\n",
      "23/23 [==============================] - 0s 3ms/step - loss: 0.1274 - acc: 0.8272 - val_loss: 0.1260 - val_acc: 0.8380\n",
      "Epoch 30/40\n",
      "23/23 [==============================] - 0s 3ms/step - loss: 0.1272 - acc: 0.8272 - val_loss: 0.1260 - val_acc: 0.8380\n",
      "Epoch 31/40\n",
      "23/23 [==============================] - 0s 3ms/step - loss: 0.1271 - acc: 0.8287 - val_loss: 0.1259 - val_acc: 0.8380\n",
      "Epoch 32/40\n",
      "23/23 [==============================] - 0s 3ms/step - loss: 0.1268 - acc: 0.8287 - val_loss: 0.1259 - val_acc: 0.8380\n",
      "Epoch 33/40\n",
      "23/23 [==============================] - 0s 3ms/step - loss: 0.1267 - acc: 0.8287 - val_loss: 0.1259 - val_acc: 0.8380\n",
      "Epoch 34/40\n",
      "23/23 [==============================] - 0s 3ms/step - loss: 0.1264 - acc: 0.8301 - val_loss: 0.1262 - val_acc: 0.8380\n",
      "Epoch 35/40\n",
      "23/23 [==============================] - 0s 3ms/step - loss: 0.1263 - acc: 0.8287 - val_loss: 0.1261 - val_acc: 0.8380\n",
      "Epoch 36/40\n",
      "23/23 [==============================] - 0s 3ms/step - loss: 0.1264 - acc: 0.8272 - val_loss: 0.1264 - val_acc: 0.8212\n",
      "Epoch 37/40\n",
      "23/23 [==============================] - 0s 3ms/step - loss: 0.1259 - acc: 0.8287 - val_loss: 0.1262 - val_acc: 0.8324\n",
      "Epoch 38/40\n",
      "23/23 [==============================] - 0s 4ms/step - loss: 0.1259 - acc: 0.8287 - val_loss: 0.1264 - val_acc: 0.8324\n",
      "Epoch 39/40\n",
      "23/23 [==============================] - 0s 5ms/step - loss: 0.1259 - acc: 0.8287 - val_loss: 0.1264 - val_acc: 0.8324\n",
      "Epoch 40/40\n",
      "23/23 [==============================] - 0s 3ms/step - loss: 0.1256 - acc: 0.8287 - val_loss: 0.1264 - val_acc: 0.8324\n"
     ]
    }
   ],
   "source": [
    "ob = model.fit(XS_train, YS_train, epochs = 40, shuffle=True, validation_data = (XS_test,YS_test))"
   ]
  },
  {
   "cell_type": "code",
   "execution_count": 20,
   "id": "272fa3a4",
   "metadata": {},
   "outputs": [
    {
     "name": "stdout",
     "output_type": "stream",
     "text": [
      "1/1 [==============================] - 0s 68ms/step\n"
     ]
    },
    {
     "data": {
      "text/plain": [
       "array([[0.1214701 ],\n",
       "       [0.11277387],\n",
       "       [0.11277387],\n",
       "       [0.11277387],\n",
       "       [0.9370385 ]], dtype=float32)"
      ]
     },
     "execution_count": 20,
     "metadata": {},
     "output_type": "execute_result"
    }
   ],
   "source": [
    "model.predict(XS_test[:5])"
   ]
  },
  {
   "cell_type": "code",
   "execution_count": 21,
   "id": "720be1f4",
   "metadata": {},
   "outputs": [
    {
     "name": "stdout",
     "output_type": "stream",
     "text": [
      "23/23 [==============================] - 0s 1ms/step - loss: 0.1254 - acc: 0.8287\n"
     ]
    },
    {
     "data": {
      "text/plain": [
       "[0.12540270388126373, 0.8286516666412354]"
      ]
     },
     "execution_count": 21,
     "metadata": {},
     "output_type": "execute_result"
    }
   ],
   "source": [
    "model.evaluate(XS_train, YS_train)"
   ]
  },
  {
   "cell_type": "code",
   "execution_count": 22,
   "id": "811697e4",
   "metadata": {},
   "outputs": [
    {
     "name": "stdout",
     "output_type": "stream",
     "text": [
      "6/6 [==============================] - 0s 2ms/step - loss: 0.1264 - acc: 0.8324\n"
     ]
    },
    {
     "data": {
      "text/plain": [
       "[0.1263715624809265, 0.832402229309082]"
      ]
     },
     "execution_count": 22,
     "metadata": {},
     "output_type": "execute_result"
    }
   ],
   "source": [
    "model.evaluate(XS_test, YS_test)"
   ]
  },
  {
   "cell_type": "code",
   "execution_count": 23,
   "id": "3750d2ac",
   "metadata": {},
   "outputs": [],
   "source": [
    "trainAccuracy = ob.history[\"acc\"]"
   ]
  },
  {
   "cell_type": "code",
   "execution_count": 24,
   "id": "71cd8cea",
   "metadata": {},
   "outputs": [],
   "source": [
    "testAccuracy = ob.history[\"val_acc\"]"
   ]
  },
  {
   "cell_type": "code",
   "execution_count": 25,
   "id": "ee59e962",
   "metadata": {},
   "outputs": [
    {
     "data": {
      "text/plain": [
       "<matplotlib.legend.Legend at 0x28003834e50>"
      ]
     },
     "execution_count": 25,
     "metadata": {},
     "output_type": "execute_result"
    },
    {
     "data": {
      "image/png": "[encoded data removed]",
      "text/plain": [
       "<Figure size 640x480 with 1 Axes>"
      ]
     },
     "metadata": {},
     "output_type": "display_data"
    }
   ],
   "source": [
    "plt.plot(trainAccuracy, label=\"TrainAccuracy\")\n",
    "plt.plot(testAccuracy, label=\"TestAccuracy\")\n",
    "plt.legend()"
   ]
  },
  {
   "cell_type": "raw",
   "id": "2b393af4",
   "metadata": {},
   "source": [
    "Training accuracy and Testing accuracy are almost same which indicates that no overfitting is happening for the model."
   ]
  },
  {
   "cell_type": "code",
   "execution_count": null,
   "id": "04f6ea21",
   "metadata": {},
   "outputs": [],
   "source": []
  }
 ],
 "metadata": {
  "kernelspec": {
   "display_name": "Python 3 (ipykernel)",
   "language": "python",
   "name": "python3"
  },
  "language_info": {
   "codemirror_mode": {
    "name": "ipython",
    "version": 3
   },
   "file_extension": ".py",
   "mimetype": "text/x-python",
   "name": "python",
   "nbconvert_exporter": "python",
   "pygments_lexer": "ipython3",
   "version": "3.9.13"
  }
 },
 "nbformat": 4,
 "nbformat_minor": 5
}
